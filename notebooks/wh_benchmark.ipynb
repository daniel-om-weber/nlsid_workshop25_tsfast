{
 "cells": [
  {
   "cell_type": "code",
   "execution_count": null,
   "metadata": {},
   "outputs": [],
   "source": [
    "from tsfast.basics import *\n",
    "import nonlinear_benchmarks\n",
    "\n",
    "train, test = nonlinear_benchmarks.WienerHammerBenchMark()\n",
    "n = test.state_initialization_window_length"
   ]
  },
  {
   "cell_type": "code",
   "execution_count": null,
   "metadata": {},
   "outputs": [],
   "source": [
    "dls= create_dls_wh()\n",
    "lrn = RNNLearner(dls,n_skip=n)\n",
    "lrn.fit_flat_cos(10)"
   ]
  },
  {
   "cell_type": "code",
   "execution_count": null,
   "metadata": {},
   "outputs": [],
   "source": [
    "\n",
    "model = InferenceWrapper(lrn)\n",
    "y_test_model = model(test.u)[:,0]\n",
    "test_RMSE_mV = 1000*nonlinear_benchmarks.error_metrics.RMSE(test.y[n:], y_test_model[n:])\n",
    "print(f'RMSE to submit = {test_RMSE_mV:.3f}') # report this number during submission"
   ]
  }
 ],
 "metadata": {
  "kernelspec": {
   "display_name": "env_tsfast",
   "language": "python",
   "name": "python3"
  },
  "language_info": {
   "name": "python",
   "version": "3.10.16"
  }
 },
 "nbformat": 4,
 "nbformat_minor": 2
}
